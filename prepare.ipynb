{
 "cells": [
  {
   "cell_type": "code",
   "execution_count": null,
   "id": "05130e6f",
   "metadata": {},
   "outputs": [],
   "source": [
    "import os\n",
    "from glob import glob\n",
    "import shutil\n",
    "import dicom2nifti\n",
    "import numpy as np\n",
    "import nibabel as nib\n",
    "from tqdm import tqdm\n"
   ]
  },
  {
   "cell_type": "markdown",
   "id": "f42d3376",
   "metadata": {},
   "source": [
    "# Make group of 57(or 38) slices"
   ]
  },
  {
   "cell_type": "code",
   "execution_count": null,
   "id": "2e344920",
   "metadata": {},
   "outputs": [],
   "source": [
    "in_path_images = 'C:/Users/swapn/code/AI Healthcare Imaging/datasets/Task02_Heart/dicom_files/images'\n",
    "in_path_labels = 'C:/Users/swapn/code/AI Healthcare Imaging/datasets/Task02_Heart/dicom_files/labels'\n",
    "\n",
    "out_path_images = 'C:/Users/swapn/code/AI Healthcare Imaging/datasets/Task02_Heart/dicom_groups/images'\n",
    "out_path_labels = 'C:/Users/swapn/code/AI Healthcare Imaging/datasets/Task02_Heart/dicom_groups/labels'\n"
   ]
  },
  {
   "cell_type": "code",
   "execution_count": null,
   "id": "2b7314b2",
   "metadata": {},
   "outputs": [],
   "source": [
    "# run the for loop for both images and labels\n",
    "# change the in_path and out_path accordingly\n",
    "\n",
    "Number_slices = 38\n",
    "for folder in tqdm(glob(in_path_labels + '/*'), ncols = 100, desc =\"Creating group of dicom files\"):\n",
    "        patient_name = os.path.basename(os.path.normpath(folder))\n",
    "\n",
    "        # Here we need to calculate the number of folders which mean into how many groups we will divide the number of slices\n",
    "        number_folders = int(len(glob(folder + '/*')) / Number_slices)\n",
    "\n",
    "        for i in range(number_folders):\n",
    "            output_path = os.path.join(out_path_labels, patient_name + '_' + str(i))\n",
    "            os.mkdir(output_path)\n",
    "\n",
    "            # Move the slices into a specific folder so that you will save memory in your desk\n",
    "            for i, file in enumerate(glob(folder + '/*')):\n",
    "                if i == Number_slices + 1:\n",
    "                    break\n",
    "                \n",
    "                shutil.move(file, output_path)"
   ]
  },
  {
   "cell_type": "markdown",
   "id": "77a0c36e",
   "metadata": {},
   "source": [
    "# Convert the group of dicom slices to nifti"
   ]
  },
  {
   "cell_type": "code",
   "execution_count": null,
   "id": "e61e1642",
   "metadata": {},
   "outputs": [],
   "source": [
    "in_path_images = 'C:/Users/swapn/code/AI Healthcare Imaging/datasets/Task02_Heart/dicom_groups/images'\n",
    "in_path_labels = 'C:/Users/swapn/code/AI Healthcare Imaging/datasets/Task02_Heart/dicom_groups/labels'\n",
    "\n",
    "out_path = 'C:/Users/swapn/code/AI Healthcare Imaging/datasets/Task02_Heart/'\n",
    "out_path = os.path.join(out_path, 'nifti_files')\n",
    "os.mkdir(out_path)\n",
    "\n",
    "out_path_images = os.path.join(out_path, 'images')\n",
    "out_path_labels = os.path.join(out_path, 'labels')\n",
    "os.mkdir(out_path_images)\n",
    "os.mkdir(out_path_labels)\n"
   ]
  },
  {
   "cell_type": "code",
   "execution_count": null,
   "id": "4297541f",
   "metadata": {},
   "outputs": [],
   "source": [
    "# run the for loop for both images and labels\n",
    "# change the in_path and out_path accordingly\n",
    "\n",
    "for folder in tqdm(glob(in_path_labels + '/*'), ncols=100, desc=\"Converting dicom to nifti\"):\n",
    "    patient_name = os.path.basename(os.path.normpath(folder))\n",
    "    dicom2nifti.dicom_series_to_nifti(folder, os.path.join(out_path_labels, patient_name + '.nii.gz'))\n"
   ]
  },
  {
   "cell_type": "markdown",
   "id": "b0d5b09f",
   "metadata": {},
   "source": [
    "# Find empty labels"
   ]
  },
  {
   "cell_type": "code",
   "execution_count": null,
   "id": "66bf7bd3",
   "metadata": {},
   "outputs": [],
   "source": [
    "in_path_nifti_labels = 'C:/Users/swapn/code/AI Healthcare Imaging/datasets/Task02_Heart/nifti_files/labels'\n",
    "\n",
    "# for patient in glob(os.path.join(in_path_nifti_labels, '*')):\n",
    "all_folder = []\n",
    "for folder in tqdm(glob(os.path.join(in_path_nifti_labels, '/*')), ncols=100, desc=\"Finding empty labels\"):\n",
    "    nifti = nib.load(folder)\n",
    "    fdata = nifti.get_fdata()\n",
    "    unique = np.unique(fdata)\n",
    "\n",
    "    if len(unique) > 2:\n",
    "        print(os.path.basename(os.path.normpath(folder)))\n",
    "        # shutil.delete(folder)\n",
    "        # all_folder.append(os.path.basename(os.path.normpath(folder)))\n",
    "\n",
    "# return all_folder\n",
    "# print(all_folder)\n"
   ]
  }
 ],
 "metadata": {
  "kernelspec": {
   "display_name": "Python 3.8.15 ('heart_segmentation')",
   "language": "python",
   "name": "python3"
  },
  "language_info": {
   "codemirror_mode": {
    "name": "ipython",
    "version": 3
   },
   "file_extension": ".py",
   "mimetype": "text/x-python",
   "name": "python",
   "nbconvert_exporter": "python",
   "pygments_lexer": "ipython3",
   "version": "3.8.15"
  },
  "vscode": {
   "interpreter": {
    "hash": "97a763638c10d1bdb4643a26237fd4898c5a9944d8d4dfdfc44aa72384207d36"
   }
  }
 },
 "nbformat": 4,
 "nbformat_minor": 5
}
